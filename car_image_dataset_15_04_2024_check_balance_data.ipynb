{
  "cells": [
    {
      "cell_type": "code",
      "execution_count": null,
      "metadata": {
        "colab": {
          "base_uri": "https://localhost:8080/"
        },
        "id": "GUrGRVaQAPOk",
        "outputId": "b03cf120-c4e4-47e3-9911-90ecb273314a"
      },
      "outputs": [
        {
          "output_type": "stream",
          "name": "stdout",
          "text": [
            "/bin/bash: line 1: nvidia-smi: command not found\n"
          ]
        }
      ],
      "source": [
        "!nvidia-smi"
      ]
    },
    {
      "cell_type": "code",
      "execution_count": null,
      "metadata": {
        "id": "YXUuGJEuAT-f"
      },
      "outputs": [],
      "source": [
        "import os"
      ]
    },
    {
      "cell_type": "code",
      "source": [
        "!pip install kaggle"
      ],
      "metadata": {
        "colab": {
          "base_uri": "https://localhost:8080/"
        },
        "id": "cm6NxVOsCv3T",
        "outputId": "31bbd3bc-65a6-4172-b767-a0c38fc5d5fa"
      },
      "execution_count": null,
      "outputs": [
        {
          "output_type": "stream",
          "name": "stdout",
          "text": [
            "Requirement already satisfied: kaggle in /usr/local/lib/python3.10/dist-packages (1.5.16)\n",
            "Requirement already satisfied: six>=1.10 in /usr/local/lib/python3.10/dist-packages (from kaggle) (1.16.0)\n",
            "Requirement already satisfied: certifi in /usr/local/lib/python3.10/dist-packages (from kaggle) (2024.2.2)\n",
            "Requirement already satisfied: python-dateutil in /usr/local/lib/python3.10/dist-packages (from kaggle) (2.8.2)\n",
            "Requirement already satisfied: requests in /usr/local/lib/python3.10/dist-packages (from kaggle) (2.31.0)\n",
            "Requirement already satisfied: tqdm in /usr/local/lib/python3.10/dist-packages (from kaggle) (4.66.2)\n",
            "Requirement already satisfied: python-slugify in /usr/local/lib/python3.10/dist-packages (from kaggle) (8.0.4)\n",
            "Requirement already satisfied: urllib3 in /usr/local/lib/python3.10/dist-packages (from kaggle) (2.0.7)\n",
            "Requirement already satisfied: bleach in /usr/local/lib/python3.10/dist-packages (from kaggle) (6.1.0)\n",
            "Requirement already satisfied: webencodings in /usr/local/lib/python3.10/dist-packages (from bleach->kaggle) (0.5.1)\n",
            "Requirement already satisfied: text-unidecode>=1.3 in /usr/local/lib/python3.10/dist-packages (from python-slugify->kaggle) (1.3)\n",
            "Requirement already satisfied: charset-normalizer<4,>=2 in /usr/local/lib/python3.10/dist-packages (from requests->kaggle) (3.3.2)\n",
            "Requirement already satisfied: idna<4,>=2.5 in /usr/local/lib/python3.10/dist-packages (from requests->kaggle) (3.6)\n"
          ]
        }
      ]
    },
    {
      "cell_type": "code",
      "source": [
        "from google.colab import files\n",
        "\n",
        "uploaded = files.upload()\n",
        "\n",
        "for fn in uploaded.keys():\n",
        "    print('Uploaded file \"{name}\" with length {length} bytes'.format(\n",
        "        name=fn, length=len(uploaded[fn])))"
      ],
      "metadata": {
        "colab": {
          "base_uri": "https://localhost:8080/",
          "height": 89
        },
        "id": "uWVZCzUgC-D_",
        "outputId": "886015a9-8e1a-4739-fa43-24ccb2531c3b"
      },
      "execution_count": null,
      "outputs": [
        {
          "output_type": "display_data",
          "data": {
            "text/plain": [
              "<IPython.core.display.HTML object>"
            ],
            "text/html": [
              "\n",
              "     <input type=\"file\" id=\"files-d2974bd3-bce5-49c4-b261-c233ee863e2e\" name=\"files[]\" multiple disabled\n",
              "        style=\"border:none\" />\n",
              "     <output id=\"result-d2974bd3-bce5-49c4-b261-c233ee863e2e\">\n",
              "      Upload widget is only available when the cell has been executed in the\n",
              "      current browser session. Please rerun this cell to enable.\n",
              "      </output>\n",
              "      <script>// Copyright 2017 Google LLC\n",
              "//\n",
              "// Licensed under the Apache License, Version 2.0 (the \"License\");\n",
              "// you may not use this file except in compliance with the License.\n",
              "// You may obtain a copy of the License at\n",
              "//\n",
              "//      http://www.apache.org/licenses/LICENSE-2.0\n",
              "//\n",
              "// Unless required by applicable law or agreed to in writing, software\n",
              "// distributed under the License is distributed on an \"AS IS\" BASIS,\n",
              "// WITHOUT WARRANTIES OR CONDITIONS OF ANY KIND, either express or implied.\n",
              "// See the License for the specific language governing permissions and\n",
              "// limitations under the License.\n",
              "\n",
              "/**\n",
              " * @fileoverview Helpers for google.colab Python module.\n",
              " */\n",
              "(function(scope) {\n",
              "function span(text, styleAttributes = {}) {\n",
              "  const element = document.createElement('span');\n",
              "  element.textContent = text;\n",
              "  for (const key of Object.keys(styleAttributes)) {\n",
              "    element.style[key] = styleAttributes[key];\n",
              "  }\n",
              "  return element;\n",
              "}\n",
              "\n",
              "// Max number of bytes which will be uploaded at a time.\n",
              "const MAX_PAYLOAD_SIZE = 100 * 1024;\n",
              "\n",
              "function _uploadFiles(inputId, outputId) {\n",
              "  const steps = uploadFilesStep(inputId, outputId);\n",
              "  const outputElement = document.getElementById(outputId);\n",
              "  // Cache steps on the outputElement to make it available for the next call\n",
              "  // to uploadFilesContinue from Python.\n",
              "  outputElement.steps = steps;\n",
              "\n",
              "  return _uploadFilesContinue(outputId);\n",
              "}\n",
              "\n",
              "// This is roughly an async generator (not supported in the browser yet),\n",
              "// where there are multiple asynchronous steps and the Python side is going\n",
              "// to poll for completion of each step.\n",
              "// This uses a Promise to block the python side on completion of each step,\n",
              "// then passes the result of the previous step as the input to the next step.\n",
              "function _uploadFilesContinue(outputId) {\n",
              "  const outputElement = document.getElementById(outputId);\n",
              "  const steps = outputElement.steps;\n",
              "\n",
              "  const next = steps.next(outputElement.lastPromiseValue);\n",
              "  return Promise.resolve(next.value.promise).then((value) => {\n",
              "    // Cache the last promise value to make it available to the next\n",
              "    // step of the generator.\n",
              "    outputElement.lastPromiseValue = value;\n",
              "    return next.value.response;\n",
              "  });\n",
              "}\n",
              "\n",
              "/**\n",
              " * Generator function which is called between each async step of the upload\n",
              " * process.\n",
              " * @param {string} inputId Element ID of the input file picker element.\n",
              " * @param {string} outputId Element ID of the output display.\n",
              " * @return {!Iterable<!Object>} Iterable of next steps.\n",
              " */\n",
              "function* uploadFilesStep(inputId, outputId) {\n",
              "  const inputElement = document.getElementById(inputId);\n",
              "  inputElement.disabled = false;\n",
              "\n",
              "  const outputElement = document.getElementById(outputId);\n",
              "  outputElement.innerHTML = '';\n",
              "\n",
              "  const pickedPromise = new Promise((resolve) => {\n",
              "    inputElement.addEventListener('change', (e) => {\n",
              "      resolve(e.target.files);\n",
              "    });\n",
              "  });\n",
              "\n",
              "  const cancel = document.createElement('button');\n",
              "  inputElement.parentElement.appendChild(cancel);\n",
              "  cancel.textContent = 'Cancel upload';\n",
              "  const cancelPromise = new Promise((resolve) => {\n",
              "    cancel.onclick = () => {\n",
              "      resolve(null);\n",
              "    };\n",
              "  });\n",
              "\n",
              "  // Wait for the user to pick the files.\n",
              "  const files = yield {\n",
              "    promise: Promise.race([pickedPromise, cancelPromise]),\n",
              "    response: {\n",
              "      action: 'starting',\n",
              "    }\n",
              "  };\n",
              "\n",
              "  cancel.remove();\n",
              "\n",
              "  // Disable the input element since further picks are not allowed.\n",
              "  inputElement.disabled = true;\n",
              "\n",
              "  if (!files) {\n",
              "    return {\n",
              "      response: {\n",
              "        action: 'complete',\n",
              "      }\n",
              "    };\n",
              "  }\n",
              "\n",
              "  for (const file of files) {\n",
              "    const li = document.createElement('li');\n",
              "    li.append(span(file.name, {fontWeight: 'bold'}));\n",
              "    li.append(span(\n",
              "        `(${file.type || 'n/a'}) - ${file.size} bytes, ` +\n",
              "        `last modified: ${\n",
              "            file.lastModifiedDate ? file.lastModifiedDate.toLocaleDateString() :\n",
              "                                    'n/a'} - `));\n",
              "    const percent = span('0% done');\n",
              "    li.appendChild(percent);\n",
              "\n",
              "    outputElement.appendChild(li);\n",
              "\n",
              "    const fileDataPromise = new Promise((resolve) => {\n",
              "      const reader = new FileReader();\n",
              "      reader.onload = (e) => {\n",
              "        resolve(e.target.result);\n",
              "      };\n",
              "      reader.readAsArrayBuffer(file);\n",
              "    });\n",
              "    // Wait for the data to be ready.\n",
              "    let fileData = yield {\n",
              "      promise: fileDataPromise,\n",
              "      response: {\n",
              "        action: 'continue',\n",
              "      }\n",
              "    };\n",
              "\n",
              "    // Use a chunked sending to avoid message size limits. See b/62115660.\n",
              "    let position = 0;\n",
              "    do {\n",
              "      const length = Math.min(fileData.byteLength - position, MAX_PAYLOAD_SIZE);\n",
              "      const chunk = new Uint8Array(fileData, position, length);\n",
              "      position += length;\n",
              "\n",
              "      const base64 = btoa(String.fromCharCode.apply(null, chunk));\n",
              "      yield {\n",
              "        response: {\n",
              "          action: 'append',\n",
              "          file: file.name,\n",
              "          data: base64,\n",
              "        },\n",
              "      };\n",
              "\n",
              "      let percentDone = fileData.byteLength === 0 ?\n",
              "          100 :\n",
              "          Math.round((position / fileData.byteLength) * 100);\n",
              "      percent.textContent = `${percentDone}% done`;\n",
              "\n",
              "    } while (position < fileData.byteLength);\n",
              "  }\n",
              "\n",
              "  // All done.\n",
              "  yield {\n",
              "    response: {\n",
              "      action: 'complete',\n",
              "    }\n",
              "  };\n",
              "}\n",
              "\n",
              "scope.google = scope.google || {};\n",
              "scope.google.colab = scope.google.colab || {};\n",
              "scope.google.colab._files = {\n",
              "  _uploadFiles,\n",
              "  _uploadFilesContinue,\n",
              "};\n",
              "})(self);\n",
              "</script> "
            ]
          },
          "metadata": {}
        },
        {
          "output_type": "stream",
          "name": "stdout",
          "text": [
            "Saving kaggle.json to kaggle (3).json\n",
            "Uploaded file \"kaggle (3).json\" with length 70 bytes\n"
          ]
        }
      ]
    },
    {
      "cell_type": "code",
      "source": [
        "!mkdir -p ~/.kaggle\n",
        "!cp kaggle.json ~/.kaggle/"
      ],
      "metadata": {
        "id": "yqDGbqN_DMAp"
      },
      "execution_count": null,
      "outputs": []
    },
    {
      "cell_type": "code",
      "source": [
        "!chmod 600 ~/.kaggle/kaggle.json"
      ],
      "metadata": {
        "id": "zufG65TODvg0"
      },
      "execution_count": null,
      "outputs": []
    },
    {
      "cell_type": "code",
      "execution_count": null,
      "metadata": {
        "id": "65aZVdcOA-cu"
      },
      "outputs": [],
      "source": [
        "os.environ[\"KAGGLE_CONFIG_DIR\"] = '/content/'"
      ]
    },
    {
      "cell_type": "code",
      "execution_count": null,
      "metadata": {
        "colab": {
          "base_uri": "https://localhost:8080/"
        },
        "id": "UBM7PobDA_Bd",
        "outputId": "0d1acfe6-c0cc-4439-d9ea-7360be06e34f"
      },
      "outputs": [
        {
          "output_type": "stream",
          "name": "stdout",
          "text": [
            "Warning: Your Kaggle API key is readable by other users on this system! To fix this, you can run 'chmod 600 /content/kaggle.json'\n",
            "cars-image-dataset.zip: Skipping, found more recently modified local copy (use --force to force download)\n"
          ]
        }
      ],
      "source": [
        "!kaggle datasets download -d kshitij192/cars-image-dataset"
      ]
    },
    {
      "cell_type": "code",
      "source": [
        "# !unzip //content/cars-image-dataset.zip"
      ],
      "metadata": {
        "colab": {
          "base_uri": "https://localhost:8080/"
        },
        "id": "IbWOetXhEG1q",
        "outputId": "aa755e00-91b2-4bf5-95bd-f30a2301b210"
      },
      "execution_count": null,
      "outputs": [
        {
          "output_type": "stream",
          "name": "stdout",
          "text": [
            "Archive:  //content/cars-image-dataset.zip\n",
            "replace Cars Dataset/test/Audi/1000.jpg? [y]es, [n]o, [A]ll, [N]one, [r]ename: 0\n",
            "error:  invalid response [0]\n",
            "replace Cars Dataset/test/Audi/1000.jpg? [y]es, [n]o, [A]ll, [N]one, [r]ename: no\n",
            "replace Cars Dataset/test/Audi/1003.jpg? [y]es, [n]o, [A]ll, [N]one, [r]ename: "
          ]
        }
      ]
    },
    {
      "cell_type": "code",
      "execution_count": null,
      "metadata": {
        "id": "FvQM_V31BB8J"
      },
      "outputs": [],
      "source": [
        "# !unzip '*.zip' && rm *.zip\n",
        "# --------"
      ]
    },
    {
      "cell_type": "markdown",
      "metadata": {
        "id": "1mdOVKaiBOlS"
      },
      "source": [
        "Load and Preprocess the Data:\n"
      ]
    },
    {
      "cell_type": "code",
      "execution_count": null,
      "metadata": {
        "id": "6ykUkDOmBNtj"
      },
      "outputs": [],
      "source": [
        "import tensorflow as tf\n",
        "from tensorflow.keras.preprocessing.image import ImageDataGenerator\n",
        "from tensorflow.keras.models import Sequential\n",
        "from tensorflow.keras.layers import Conv2D, MaxPooling2D, Flatten, Dense, Dropout\n",
        "\n",
        "\n",
        "train_dir = '/content/Cars Dataset/train'\n",
        "test_dir = '/content/Cars Dataset/test'\n",
        "img_height, img_width = 224, 224\n",
        "batch_size = 32"
      ]
    },
    {
      "cell_type": "code",
      "source": [
        "len(train_dir),len(test_dir)"
      ],
      "metadata": {
        "colab": {
          "base_uri": "https://localhost:8080/"
        },
        "id": "XjcpQy1GEnqg",
        "outputId": "2890b244-f813-4691-8e4c-9220cafda45e"
      },
      "execution_count": null,
      "outputs": [
        {
          "output_type": "execute_result",
          "data": {
            "text/plain": [
              "(27, 26)"
            ]
          },
          "metadata": {},
          "execution_count": 13
        }
      ]
    },
    {
      "cell_type": "code",
      "execution_count": null,
      "metadata": {
        "id": "lzXiiYlBBETF"
      },
      "outputs": [],
      "source": [
        "# Data augmentation for the training set\n",
        "train_datagen = ImageDataGenerator(\n",
        "    rescale=1.0 / 255,\n",
        "    rotation_range=20,\n",
        "    width_shift_range=0.2,\n",
        "    height_shift_range=0.2,\n",
        "    shear_range=0.2,\n",
        "    zoom_range=0.2,\n",
        "    horizontal_flip=True,\n",
        "    fill_mode='nearest'\n",
        " )"
      ]
    },
    {
      "cell_type": "code",
      "execution_count": null,
      "metadata": {
        "colab": {
          "base_uri": "https://localhost:8080/"
        },
        "id": "kNSu4MXBReRY",
        "outputId": "f93e8b9a-8344-4750-9521-990043f94936"
      },
      "outputs": [
        {
          "output_type": "stream",
          "name": "stdout",
          "text": [
            "Found 3352 images belonging to 7 classes.\n"
          ]
        }
      ],
      "source": [
        "# Load training data and split into training and validation sets\n",
        "train_generator = train_datagen.flow_from_directory(\n",
        "    train_dir,\n",
        "    target_size=(img_height, img_width),\n",
        "    batch_size=batch_size,\n",
        "    class_mode='categorical',\n",
        "    shuffle=True,\n",
        "    subset='training'  # Use subset argument to specify 'training' split\n",
        ")"
      ]
    },
    {
      "cell_type": "code",
      "execution_count": null,
      "metadata": {
        "colab": {
          "base_uri": "https://localhost:8080/"
        },
        "id": "KxLJxoLWBj_V",
        "outputId": "65a10f2c-4b03-4af5-e25a-76242fbe8679"
      },
      "outputs": [
        {
          "output_type": "stream",
          "name": "stdout",
          "text": [
            "Found 813 images belonging to 7 classes.\n"
          ]
        }
      ],
      "source": [
        "# No data augmentation for the test set, only rescaling\n",
        "test_datagen = ImageDataGenerator(rescale=1.0 / 255)\n",
        "test_generator = test_datagen.flow_from_directory(\n",
        "    test_dir,\n",
        "    target_size=(img_height, img_width),\n",
        "    batch_size=batch_size,\n",
        "    class_mode='categorical',\n",
        "    shuffle=False\n",
        ")"
      ]
    },
    {
      "cell_type": "code",
      "source": [
        "class_indices = train_generator.class_indices"
      ],
      "metadata": {
        "id": "huL9JNQEGQE7"
      },
      "execution_count": null,
      "outputs": []
    },
    {
      "cell_type": "code",
      "source": [
        "# Initialize a dictionary to store the count of images for each class\n",
        "class_counts = {class_name: 0 for class_name in class_indices}"
      ],
      "metadata": {
        "id": "AU0KzcGPGvIB"
      },
      "execution_count": null,
      "outputs": []
    },
    {
      "cell_type": "code",
      "source": [
        "# Loop through the files in the train directory and count the images for each class\n",
        "for class_name in class_indices:\n",
        "    class_dir = os.path.join(train_dir, class_name)\n",
        "    class_count = len(os.listdir(class_dir))\n",
        "    class_counts[class_name] = class_count\n",
        "\n",
        "# Print the count of images for each class\n",
        "for class_name, count in class_counts.items():\n",
        "    print(f\"Number of images in class {class_name}: {count}\")"
      ],
      "metadata": {
        "colab": {
          "base_uri": "https://localhost:8080/"
        },
        "id": "AXxixN4CGza3",
        "outputId": "9d27e38d-6b06-4b88-cff8-3c4ac96c9b61"
      },
      "execution_count": null,
      "outputs": [
        {
          "output_type": "stream",
          "name": "stdout",
          "text": [
            "Number of images in class Audi: 814\n",
            "Number of images in class Hyundai Creta: 271\n",
            "Number of images in class Mahindra Scorpio: 316\n",
            "Number of images in class Rolls Royce: 311\n",
            "Number of images in class Swift: 424\n",
            "Number of images in class Tata Safari: 441\n",
            "Number of images in class Toyota Innova: 775\n"
          ]
        }
      ]
    },
    {
      "cell_type": "markdown",
      "metadata": {
        "id": "6zT4jTzWB51M"
      },
      "source": [
        "Calculate Class Weights:\n"
      ]
    },
    {
      "cell_type": "markdown",
      "source": [
        "Regarding the class imbalance problem:\n",
        "Yes, there is a class imbalance problem in this dataset. The number of images varies significantly across different classes. This can lead to biases during model training, where the model might become biased towards the majority class and perform poorly on the minority classes."
      ],
      "metadata": {
        "id": "u4Alz_a0N2RT"
      }
    },
    {
      "cell_type": "code",
      "source": [
        "sorted_class_counts = sorted(class_counts.items(), key=lambda x: x[1])\n",
        "\n",
        "# Most represented class (last element in sorted list)\n",
        "most_represented_class = sorted_class_counts[-1]\n",
        "most_represented_class_name, most_represented_count = most_represented_class\n",
        "\n",
        "# Least represented class (first element in sorted list)\n",
        "least_represented_class = sorted_class_counts[0]\n",
        "least_represented_class_name, least_represented_count = least_represented_class\n",
        "\n",
        "# Print the most and least represented classes\n",
        "print(\"Most represented class:\", most_represented_class_name, \"with\", most_represented_count, \"images\")\n",
        "print(\"Least represented class:\", least_represented_class_name, \"with\", least_represented_count, \"images\")"
      ],
      "metadata": {
        "colab": {
          "base_uri": "https://localhost:8080/"
        },
        "id": "qTP3fBquIOnh",
        "outputId": "70c869be-c094-41db-eb81-814818794284"
      },
      "execution_count": null,
      "outputs": [
        {
          "output_type": "stream",
          "name": "stdout",
          "text": [
            "Most represented class: Audi with 814 images\n",
            "Least represented class: Hyundai Creta with 271 images\n"
          ]
        }
      ]
    },
    {
      "cell_type": "code",
      "source": [
        "target_count = max(class_counts.values())\n",
        "print(target_count)"
      ],
      "metadata": {
        "colab": {
          "base_uri": "https://localhost:8080/"
        },
        "id": "GWP3DsA-Kp9z",
        "outputId": "1dcd1433-0dd4-4755-9275-cad92c3a2d11"
      },
      "execution_count": null,
      "outputs": [
        {
          "output_type": "stream",
          "name": "stdout",
          "text": [
            "814\n"
          ]
        }
      ]
    },
    {
      "cell_type": "code",
      "source": [
        "import numpy as np\n",
        "from collections import Counter\n",
        "\n",
        "oversampled_data = []\n",
        "for class_name, count in class_counts.items():\n",
        "    class_dir = os.path.join(train_dir, class_name)\n",
        "    filenames = os.listdir(class_dir)\n",
        "    if count < target_count:\n",
        "        sampled_filenames = np.random.choice(filenames, target_count - count, replace=True)\n",
        "        oversampled_data.extend([os.path.join(class_dir, filename) for filename in sampled_filenames])\n",
        "        # Add original data\n",
        "        oversampled_data.extend([os.path.join(class_dir, filename) for filename in filenames])\n",
        "    else:\n",
        "        oversampled_data.extend([os.path.join(class_dir, filename) for filename in filenames])\n",
        "\n",
        "\n",
        "# Get the count of images for each class after oversampling\n",
        "class_counts_oversampled = Counter(oversampled_data)"
      ],
      "metadata": {
        "id": "8ZBGuZtUKrsQ"
      },
      "execution_count": null,
      "outputs": []
    },
    {
      "cell_type": "code",
      "source": [
        "class_counts_oversampled = Counter([os.path.dirname(filepath) for filepath in oversampled_data])\n",
        "# class_counts_oversampled = Counter(oversampled_data)\n",
        "# Print the count of images for each class before oversampling\n",
        "\n",
        "print(\"Before oversampling:\")\n",
        "for class_name, count in class_counts.items():\n",
        "    print(f\"Number of images in class {class_name}: {count}\")\n",
        "\n",
        "# Print the count of images for each class after oversampling\n",
        "print(\"\\nAfter oversampling:\")\n",
        "for class_name, count in class_counts_oversampled.items():\n",
        "    print(f\"Number of images in class {class_name}: {count}\")"
      ],
      "metadata": {
        "colab": {
          "base_uri": "https://localhost:8080/"
        },
        "id": "iOg6qMxvK2Ej",
        "outputId": "22f16feb-4873-409c-d231-8558b42fd640"
      },
      "execution_count": null,
      "outputs": [
        {
          "output_type": "stream",
          "name": "stdout",
          "text": [
            "Before oversampling:\n",
            "Number of images in class Audi: 814\n",
            "Number of images in class Hyundai Creta: 271\n",
            "Number of images in class Mahindra Scorpio: 316\n",
            "Number of images in class Rolls Royce: 311\n",
            "Number of images in class Swift: 424\n",
            "Number of images in class Tata Safari: 441\n",
            "Number of images in class Toyota Innova: 775\n",
            "\n",
            "After oversampling:\n",
            "Number of images in class /content/Cars Dataset/train/Audi: 814\n",
            "Number of images in class /content/Cars Dataset/train/Hyundai Creta: 814\n",
            "Number of images in class /content/Cars Dataset/train/Mahindra Scorpio: 814\n",
            "Number of images in class /content/Cars Dataset/train/Rolls Royce: 814\n",
            "Number of images in class /content/Cars Dataset/train/Swift: 814\n",
            "Number of images in class /content/Cars Dataset/train/Tata Safari: 814\n",
            "Number of images in class /content/Cars Dataset/train/Toyota Innova: 814\n"
          ]
        }
      ]
    },
    {
      "cell_type": "code",
      "source": [
        "import pandas as pd"
      ],
      "metadata": {
        "id": "UbVFTBcfROut"
      },
      "execution_count": null,
      "outputs": []
    },
    {
      "cell_type": "code",
      "source": [
        "# Calculate class weights before oversampling\n",
        "class_weights_before = {}\n",
        "total_samples_before = sum(class_counts.values())\n",
        "for class_name, count in class_counts.items():\n",
        "    class_weights_before[class_name] = total_samples_before / (len(class_counts) * count)\n",
        "\n",
        "# Calculate class weights after oversampling\n",
        "class_weights_after = {}\n",
        "total_samples_after = sum(class_counts_oversampled.values())\n",
        "for class_name, count in class_counts_oversampled.items():\n",
        "    class_weights_after[class_name] = total_samples_after / (len(class_counts_oversampled) * count)\n",
        "\n",
        "# Print class weights before oversampling\n",
        "print(\"Class weights before oversampling:\")\n",
        "for class_name, weight in class_weights_before.items():\n",
        "    print(f\"Class {class_name}: {weight}\")\n",
        "\n",
        "# Print class weights after oversampling\n",
        "print(\"\\nClass weights after oversampling:\")\n",
        "for class_name, weight in class_weights_after.items():\n",
        "    print(f\"Class {class_name}: {weight}\")"
      ],
      "metadata": {
        "colab": {
          "base_uri": "https://localhost:8080/"
        },
        "id": "pNbx-4j_NMqa",
        "outputId": "4ad2861b-27ab-485c-a02e-8666ccb79f66"
      },
      "execution_count": null,
      "outputs": [
        {
          "output_type": "stream",
          "name": "stdout",
          "text": [
            "Class weights before oversampling:\n",
            "Class Audi: 0.5882765882765882\n",
            "Class Hyundai Creta: 1.7670005271481286\n",
            "Class Mahindra Scorpio: 1.515370705244123\n",
            "Class Rolls Royce: 1.5397335783187873\n",
            "Class Swift: 1.1293800539083558\n",
            "Class Tata Safari: 1.0858438613540655\n",
            "Class Toyota Innova: 0.6178801843317973\n",
            "\n",
            "Class weights after oversampling:\n",
            "Class /content/Cars Dataset/train/Audi: 1.0\n",
            "Class /content/Cars Dataset/train/Hyundai Creta: 1.0\n",
            "Class /content/Cars Dataset/train/Mahindra Scorpio: 1.0\n",
            "Class /content/Cars Dataset/train/Rolls Royce: 1.0\n",
            "Class /content/Cars Dataset/train/Swift: 1.0\n",
            "Class /content/Cars Dataset/train/Tata Safari: 1.0\n",
            "Class /content/Cars Dataset/train/Toyota Innova: 1.0\n"
          ]
        }
      ]
    },
    {
      "cell_type": "code",
      "source": [
        "import numpy as np\n",
        "from sklearn.utils.class_weight import compute_class_weight\n",
        "\n",
        "# Calculate class weights to handle class imbalance\n",
        "class_weights = compute_class_weight(\n",
        "    class_weight='balanced',\n",
        "    classes=np.unique(train_generator.classes),\n",
        "    y=train_generator.classes\n",
        ")\n",
        "\n",
        "class_weights_dict = dict(enumerate(class_weights))\n",
        "print(\"Class Weights:\")\n",
        "for class_label, weight in class_weights_dict.items():\n",
        "    print(class_label, \":\", weight)"
      ],
      "metadata": {
        "colab": {
          "base_uri": "https://localhost:8080/"
        },
        "id": "T5y64eThg9hb",
        "outputId": "e5e6697b-e140-479e-a260-d8244c398bed"
      },
      "execution_count": null,
      "outputs": [
        {
          "output_type": "stream",
          "name": "stdout",
          "text": [
            "Class Weights:\n",
            "0 : 0.5882765882765882\n",
            "1 : 1.7670005271481286\n",
            "2 : 1.515370705244123\n",
            "3 : 1.5397335783187873\n",
            "4 : 1.1293800539083558\n",
            "5 : 1.0858438613540655\n",
            "6 : 0.6178801843317973\n"
          ]
        }
      ]
    },
    {
      "cell_type": "markdown",
      "source": [
        " image processing techniques,like-Resizing,Data Augmentation, you can preprocess your input data effectively, improving the performance and robustness of your CNN classification model. Additionally, these techniques help in reducing overfitting and enhancing the model's ability to generalize to new, unseen data."
      ],
      "metadata": {
        "id": "AFQZOlBKncd0"
      }
    },
    {
      "cell_type": "code",
      "source": [
        "from keras.models import Sequential\n",
        "from keras.layers import Conv2D, MaxPooling2D, Flatten, Dense, Dropout"
      ],
      "metadata": {
        "id": "q1Pdjc4kRu5T"
      },
      "execution_count": null,
      "outputs": []
    },
    {
      "cell_type": "code",
      "source": [
        "# Define the CNN model\n",
        "model = Sequential([\n",
        "    Conv2D(32, (3, 3), activation='relu', input_shape=(img_height, img_width, 3)),\n",
        "    MaxPooling2D((2, 2)),\n",
        "    Conv2D(64, (3, 3), activation='relu'),\n",
        "    MaxPooling2D((2, 2)),\n",
        "    Conv2D(128, (3, 3), activation='relu'),\n",
        "    MaxPooling2D((2, 2)),\n",
        "    Flatten(),\n",
        "    Dense(512, activation='relu'),\n",
        "    Dropout(0.5),\n",
        "    Dense(7, activation='softmax')  # 7 output classes\n",
        "])\n",
        "# Compile the model\n",
        "model.compile(optimizer='adam', loss='categorical_crossentropy', metrics=['accuracy'])"
      ],
      "metadata": {
        "id": "Gs2FqRs4R0-w"
      },
      "execution_count": null,
      "outputs": []
    },
    {
      "cell_type": "markdown",
      "metadata": {
        "id": "EezZb7AhUzWt"
      },
      "source": [
        " The 'adam' optimizer will be used to minimize the categorical cross-entropy loss during training, aiming to improve the model's accuracy on the multi-class classification task."
      ]
    },
    {
      "cell_type": "code",
      "execution_count": null,
      "metadata": {
        "colab": {
          "base_uri": "https://localhost:8080/"
        },
        "id": "DXnwJxooP11b",
        "outputId": "497061fa-2c0c-4288-fb1b-c873ea4bfaf9"
      },
      "outputs": [
        {
          "output_type": "stream",
          "name": "stdout",
          "text": [
            "Model: \"sequential\"\n",
            "_________________________________________________________________\n",
            " Layer (type)                Output Shape              Param #   \n",
            "=================================================================\n",
            " conv2d (Conv2D)             (None, 222, 222, 32)      896       \n",
            "                                                                 \n",
            " max_pooling2d (MaxPooling2  (None, 111, 111, 32)      0         \n",
            " D)                                                              \n",
            "                                                                 \n",
            " conv2d_1 (Conv2D)           (None, 109, 109, 64)      18496     \n",
            "                                                                 \n",
            " max_pooling2d_1 (MaxPoolin  (None, 54, 54, 64)        0         \n",
            " g2D)                                                            \n",
            "                                                                 \n",
            " conv2d_2 (Conv2D)           (None, 52, 52, 128)       73856     \n",
            "                                                                 \n",
            " max_pooling2d_2 (MaxPoolin  (None, 26, 26, 128)       0         \n",
            " g2D)                                                            \n",
            "                                                                 \n",
            " flatten (Flatten)           (None, 86528)             0         \n",
            "                                                                 \n",
            " dense (Dense)               (None, 512)               44302848  \n",
            "                                                                 \n",
            " dropout (Dropout)           (None, 512)               0         \n",
            "                                                                 \n",
            " dense_1 (Dense)             (None, 7)                 3591      \n",
            "                                                                 \n",
            "=================================================================\n",
            "Total params: 44399687 (169.37 MB)\n",
            "Trainable params: 44399687 (169.37 MB)\n",
            "Non-trainable params: 0 (0.00 Byte)\n",
            "_________________________________________________________________\n"
          ]
        }
      ],
      "source": [
        "model.summary()"
      ]
    },
    {
      "cell_type": "code",
      "execution_count": null,
      "metadata": {
        "colab": {
          "base_uri": "https://localhost:8080/"
        },
        "id": "PkUMy1ArCPIj",
        "outputId": "87f1a775-6aac-4d79-c49f-5e1817966c4a"
      },
      "outputs": [
        {
          "output_type": "stream",
          "name": "stdout",
          "text": [
            "Epoch 1/100\n",
            "104/104 [==============================] - 53s 435ms/step - loss: 2.0428 - accuracy: 0.1373 - val_loss: 1.9252 - val_accuracy: 0.1262\n",
            "Epoch 2/100\n",
            "104/104 [==============================] - 45s 432ms/step - loss: 1.9439 - accuracy: 0.0958 - val_loss: 1.9476 - val_accuracy: 0.1300\n",
            "Epoch 3/100\n",
            "104/104 [==============================] - 43s 412ms/step - loss: 1.9363 - accuracy: 0.1355 - val_loss: 1.9460 - val_accuracy: 0.1175\n",
            "Epoch 4/100\n",
            "104/104 [==============================] - 44s 420ms/step - loss: 1.9303 - accuracy: 0.1883 - val_loss: 1.9263 - val_accuracy: 0.1275\n",
            "Epoch 5/100\n",
            "104/104 [==============================] - 44s 424ms/step - loss: 1.9274 - accuracy: 0.1690 - val_loss: 1.8815 - val_accuracy: 0.2387\n",
            "Epoch 6/100\n",
            "104/104 [==============================] - 45s 429ms/step - loss: 1.8729 - accuracy: 0.2187 - val_loss: 1.8247 - val_accuracy: 0.2887\n",
            "Epoch 7/100\n",
            "104/104 [==============================] - 44s 421ms/step - loss: 1.8304 - accuracy: 0.2533 - val_loss: 1.8978 - val_accuracy: 0.2800\n",
            "Epoch 8/100\n",
            "104/104 [==============================] - 43s 417ms/step - loss: 1.8150 - accuracy: 0.2783 - val_loss: 1.7534 - val_accuracy: 0.3350\n",
            "Epoch 9/100\n",
            "104/104 [==============================] - 44s 420ms/step - loss: 1.7804 - accuracy: 0.3024 - val_loss: 1.6213 - val_accuracy: 0.4150\n",
            "Epoch 10/100\n",
            "104/104 [==============================] - 42s 405ms/step - loss: 1.7574 - accuracy: 0.3111 - val_loss: 1.6708 - val_accuracy: 0.3913\n",
            "Epoch 11/100\n",
            "104/104 [==============================] - 43s 418ms/step - loss: 1.7221 - accuracy: 0.3509 - val_loss: 1.6081 - val_accuracy: 0.4387\n",
            "Epoch 12/100\n",
            "104/104 [==============================] - 43s 413ms/step - loss: 1.7101 - accuracy: 0.3627 - val_loss: 1.5783 - val_accuracy: 0.4062\n",
            "Epoch 13/100\n",
            "104/104 [==============================] - 45s 428ms/step - loss: 1.6787 - accuracy: 0.3744 - val_loss: 1.5307 - val_accuracy: 0.4475\n",
            "Epoch 14/100\n",
            "104/104 [==============================] - 44s 427ms/step - loss: 1.6405 - accuracy: 0.3991 - val_loss: 1.5761 - val_accuracy: 0.4512\n",
            "Epoch 15/100\n",
            "104/104 [==============================] - 43s 409ms/step - loss: 1.6031 - accuracy: 0.4003 - val_loss: 1.5124 - val_accuracy: 0.4450\n",
            "Epoch 16/100\n",
            "104/104 [==============================] - 43s 411ms/step - loss: 1.5180 - accuracy: 0.4491 - val_loss: 1.3742 - val_accuracy: 0.4925\n",
            "Epoch 17/100\n",
            "104/104 [==============================] - 44s 422ms/step - loss: 1.4701 - accuracy: 0.4666 - val_loss: 1.2135 - val_accuracy: 0.5675\n",
            "Epoch 18/100\n",
            "104/104 [==============================] - 43s 414ms/step - loss: 1.4551 - accuracy: 0.4693 - val_loss: 1.2972 - val_accuracy: 0.5362\n",
            "Epoch 19/100\n",
            "104/104 [==============================] - 43s 412ms/step - loss: 1.4032 - accuracy: 0.4916 - val_loss: 1.3411 - val_accuracy: 0.5063\n",
            "Epoch 20/100\n",
            "104/104 [==============================] - 43s 417ms/step - loss: 1.3384 - accuracy: 0.5157 - val_loss: 1.1147 - val_accuracy: 0.6112\n",
            "Epoch 21/100\n",
            "104/104 [==============================] - 42s 405ms/step - loss: 1.2865 - accuracy: 0.5349 - val_loss: 1.0887 - val_accuracy: 0.6250\n",
            "Epoch 22/100\n",
            "104/104 [==============================] - 43s 409ms/step - loss: 1.2762 - accuracy: 0.5389 - val_loss: 1.2609 - val_accuracy: 0.5663\n",
            "Epoch 23/100\n",
            "104/104 [==============================] - 43s 418ms/step - loss: 1.2454 - accuracy: 0.5524 - val_loss: 1.1490 - val_accuracy: 0.5825\n",
            "Epoch 24/100\n",
            "104/104 [==============================] - 44s 424ms/step - loss: 1.2132 - accuracy: 0.5578 - val_loss: 1.2321 - val_accuracy: 0.5825\n",
            "Epoch 25/100\n",
            "104/104 [==============================] - 43s 418ms/step - loss: 1.1478 - accuracy: 0.5883 - val_loss: 1.0832 - val_accuracy: 0.6137\n",
            "Epoch 26/100\n",
            "104/104 [==============================] - 43s 412ms/step - loss: 1.1175 - accuracy: 0.5813 - val_loss: 1.1538 - val_accuracy: 0.6112\n",
            "Epoch 27/100\n",
            "104/104 [==============================] - 43s 411ms/step - loss: 1.1380 - accuracy: 0.5895 - val_loss: 0.9904 - val_accuracy: 0.6737\n",
            "Epoch 28/100\n",
            "104/104 [==============================] - 42s 404ms/step - loss: 1.0930 - accuracy: 0.6078 - val_loss: 0.9506 - val_accuracy: 0.6725\n",
            "Epoch 29/100\n",
            "104/104 [==============================] - 43s 418ms/step - loss: 1.0978 - accuracy: 0.5961 - val_loss: 0.9857 - val_accuracy: 0.6625\n",
            "Epoch 30/100\n",
            "104/104 [==============================] - 42s 403ms/step - loss: 1.0229 - accuracy: 0.6340 - val_loss: 0.8898 - val_accuracy: 0.6850\n",
            "Epoch 31/100\n",
            "104/104 [==============================] - 43s 411ms/step - loss: 1.0044 - accuracy: 0.6316 - val_loss: 0.9912 - val_accuracy: 0.6675\n",
            "Epoch 32/100\n",
            "104/104 [==============================] - 42s 407ms/step - loss: 0.9854 - accuracy: 0.6389 - val_loss: 0.8435 - val_accuracy: 0.7175\n",
            "Epoch 33/100\n",
            "104/104 [==============================] - 44s 422ms/step - loss: 0.9505 - accuracy: 0.6500 - val_loss: 0.8924 - val_accuracy: 0.6737\n",
            "Epoch 34/100\n",
            "104/104 [==============================] - 43s 410ms/step - loss: 0.9598 - accuracy: 0.6503 - val_loss: 0.8875 - val_accuracy: 0.6900\n",
            "Epoch 35/100\n",
            "104/104 [==============================] - 44s 424ms/step - loss: 0.8973 - accuracy: 0.6702 - val_loss: 1.0133 - val_accuracy: 0.6875\n",
            "Epoch 36/100\n",
            "104/104 [==============================] - 43s 413ms/step - loss: 0.9051 - accuracy: 0.6645 - val_loss: 0.8394 - val_accuracy: 0.7025\n",
            "Epoch 37/100\n",
            "104/104 [==============================] - 42s 405ms/step - loss: 0.8849 - accuracy: 0.6711 - val_loss: 0.9276 - val_accuracy: 0.6950\n",
            "Epoch 38/100\n",
            "104/104 [==============================] - 43s 407ms/step - loss: 0.8588 - accuracy: 0.6852 - val_loss: 0.9805 - val_accuracy: 0.6662\n",
            "Epoch 39/100\n",
            "104/104 [==============================] - 42s 401ms/step - loss: 0.8566 - accuracy: 0.6870 - val_loss: 0.9124 - val_accuracy: 0.6850\n",
            "Epoch 40/100\n",
            "104/104 [==============================] - 43s 414ms/step - loss: 0.8228 - accuracy: 0.6973 - val_loss: 0.7678 - val_accuracy: 0.7362\n",
            "Epoch 41/100\n",
            "104/104 [==============================] - 42s 404ms/step - loss: 0.8013 - accuracy: 0.7111 - val_loss: 0.8151 - val_accuracy: 0.7375\n",
            "Epoch 42/100\n",
            "104/104 [==============================] - 43s 418ms/step - loss: 0.8160 - accuracy: 0.6982 - val_loss: 0.7599 - val_accuracy: 0.7450\n",
            "Epoch 43/100\n",
            "104/104 [==============================] - 44s 420ms/step - loss: 0.7829 - accuracy: 0.7148 - val_loss: 0.6434 - val_accuracy: 0.7937\n",
            "Epoch 44/100\n",
            "104/104 [==============================] - 42s 408ms/step - loss: 0.7569 - accuracy: 0.7196 - val_loss: 0.8981 - val_accuracy: 0.7088\n",
            "Epoch 45/100\n",
            "104/104 [==============================] - 44s 420ms/step - loss: 0.7484 - accuracy: 0.7250 - val_loss: 0.6947 - val_accuracy: 0.7750\n",
            "Epoch 46/100\n",
            "104/104 [==============================] - 42s 406ms/step - loss: 0.7441 - accuracy: 0.7271 - val_loss: 0.6826 - val_accuracy: 0.7800\n",
            "Epoch 47/100\n",
            "104/104 [==============================] - 43s 413ms/step - loss: 0.7259 - accuracy: 0.7283 - val_loss: 0.8513 - val_accuracy: 0.7138\n",
            "Epoch 48/100\n",
            "104/104 [==============================] - 42s 408ms/step - loss: 0.7289 - accuracy: 0.7355 - val_loss: 0.6823 - val_accuracy: 0.7563\n",
            "Epoch 49/100\n",
            "104/104 [==============================] - 43s 411ms/step - loss: 0.7115 - accuracy: 0.7407 - val_loss: 0.6751 - val_accuracy: 0.7738\n",
            "Epoch 50/100\n",
            "104/104 [==============================] - 43s 412ms/step - loss: 0.7141 - accuracy: 0.7419 - val_loss: 0.7264 - val_accuracy: 0.7800\n",
            "Epoch 51/100\n",
            "104/104 [==============================] - 43s 412ms/step - loss: 0.6802 - accuracy: 0.7557 - val_loss: 0.8202 - val_accuracy: 0.7563\n",
            "Epoch 52/100\n",
            "104/104 [==============================] - 43s 409ms/step - loss: 0.7001 - accuracy: 0.7575 - val_loss: 0.7531 - val_accuracy: 0.7450\n",
            "Epoch 53/100\n",
            "104/104 [==============================] - 43s 416ms/step - loss: 0.6867 - accuracy: 0.7545 - val_loss: 0.5993 - val_accuracy: 0.7962\n",
            "Epoch 54/100\n",
            "104/104 [==============================] - 43s 416ms/step - loss: 0.6328 - accuracy: 0.7669 - val_loss: 0.7648 - val_accuracy: 0.7700\n",
            "Epoch 55/100\n",
            "104/104 [==============================] - 42s 408ms/step - loss: 0.6356 - accuracy: 0.7623 - val_loss: 0.6272 - val_accuracy: 0.7937\n",
            "Epoch 56/100\n",
            "104/104 [==============================] - 43s 416ms/step - loss: 0.6577 - accuracy: 0.7506 - val_loss: 0.7386 - val_accuracy: 0.7800\n",
            "Epoch 57/100\n",
            "104/104 [==============================] - 43s 415ms/step - loss: 0.6584 - accuracy: 0.7596 - val_loss: 0.7540 - val_accuracy: 0.7600\n",
            "Epoch 58/100\n",
            "104/104 [==============================] - 44s 420ms/step - loss: 0.6511 - accuracy: 0.7630 - val_loss: 0.5820 - val_accuracy: 0.8050\n",
            "Epoch 59/100\n",
            "104/104 [==============================] - 45s 434ms/step - loss: 0.6177 - accuracy: 0.7605 - val_loss: 0.6434 - val_accuracy: 0.7937\n",
            "Epoch 60/100\n",
            "104/104 [==============================] - 44s 426ms/step - loss: 0.6113 - accuracy: 0.7684 - val_loss: 0.9216 - val_accuracy: 0.7262\n",
            "Epoch 61/100\n",
            "104/104 [==============================] - 45s 432ms/step - loss: 0.5914 - accuracy: 0.7825 - val_loss: 0.8103 - val_accuracy: 0.7425\n",
            "Epoch 62/100\n",
            "104/104 [==============================] - 44s 420ms/step - loss: 0.6130 - accuracy: 0.7720 - val_loss: 0.7665 - val_accuracy: 0.7650\n",
            "Epoch 63/100\n",
            "104/104 [==============================] - 45s 432ms/step - loss: 0.5868 - accuracy: 0.7825 - val_loss: 0.6818 - val_accuracy: 0.7937\n",
            "Epoch 64/100\n",
            "104/104 [==============================] - 44s 424ms/step - loss: 0.5873 - accuracy: 0.7813 - val_loss: 0.6357 - val_accuracy: 0.8000\n",
            "Epoch 65/100\n",
            "104/104 [==============================] - 45s 430ms/step - loss: 0.5577 - accuracy: 0.7861 - val_loss: 0.7361 - val_accuracy: 0.7725\n",
            "Epoch 66/100\n",
            "104/104 [==============================] - 46s 442ms/step - loss: 0.5830 - accuracy: 0.7813 - val_loss: 0.7624 - val_accuracy: 0.7688\n",
            "Epoch 67/100\n",
            "104/104 [==============================] - 45s 430ms/step - loss: 0.5259 - accuracy: 0.8006 - val_loss: 0.5935 - val_accuracy: 0.8163\n",
            "Epoch 68/100\n",
            "104/104 [==============================] - 44s 419ms/step - loss: 0.5398 - accuracy: 0.7967 - val_loss: 0.6950 - val_accuracy: 0.8037\n",
            "Epoch 69/100\n",
            "104/104 [==============================] - 44s 427ms/step - loss: 0.5566 - accuracy: 0.8003 - val_loss: 0.5591 - val_accuracy: 0.8200\n",
            "Epoch 70/100\n",
            "104/104 [==============================] - 45s 430ms/step - loss: 0.5347 - accuracy: 0.8006 - val_loss: 0.6740 - val_accuracy: 0.8025\n",
            "Epoch 71/100\n",
            "104/104 [==============================] - 44s 426ms/step - loss: 0.5434 - accuracy: 0.8009 - val_loss: 0.7257 - val_accuracy: 0.8037\n",
            "Epoch 72/100\n",
            "104/104 [==============================] - 45s 429ms/step - loss: 0.5629 - accuracy: 0.7864 - val_loss: 0.7024 - val_accuracy: 0.7825\n",
            "Epoch 73/100\n",
            "104/104 [==============================] - 43s 417ms/step - loss: 0.5044 - accuracy: 0.8108 - val_loss: 0.6829 - val_accuracy: 0.7800\n",
            "Epoch 74/100\n",
            "104/104 [==============================] - 44s 419ms/step - loss: 0.5165 - accuracy: 0.8142 - val_loss: 0.5884 - val_accuracy: 0.8250\n",
            "Epoch 75/100\n",
            "104/104 [==============================] - 44s 427ms/step - loss: 0.5227 - accuracy: 0.8018 - val_loss: 0.6892 - val_accuracy: 0.7800\n",
            "Epoch 76/100\n",
            " 92/104 [=========================>....] - ETA: 4s - loss: 0.5131 - accuracy: 0.8147"
          ]
        }
      ],
      "source": [
        "# Train the model with class weights\n",
        "car_model = model.fit(\n",
        "    train_generator,\n",
        "    steps_per_epoch=train_generator.samples // batch_size,\n",
        "    validation_data=test_generator,\n",
        "    validation_steps=test_generator.samples // batch_size,  # added to specify the number of validation steps\n",
        "    epochs=100,class_weight=class_weights_dict\n",
        ")"
      ]
    },
    {
      "cell_type": "code",
      "source": [
        "model.save('/content/car_model_new.h5')"
      ],
      "metadata": {
        "id": "Wi1bwQANHJ1l"
      },
      "execution_count": null,
      "outputs": []
    },
    {
      "cell_type": "code",
      "execution_count": null,
      "metadata": {
        "id": "g-2_BA5iVsaV"
      },
      "outputs": [],
      "source": [
        "from sklearn.metrics import accuracy_score, precision_score, recall_score, f1_score, confusion_matrix, average_precision_score\n",
        "import numpy as np"
      ]
    },
    {
      "cell_type": "code",
      "execution_count": null,
      "metadata": {
        "id": "-Wen0VxkWMDy"
      },
      "outputs": [],
      "source": [
        "y_pred = model.predict(test_generator)\n",
        "y_true = test_generator.classes"
      ]
    },
    {
      "cell_type": "code",
      "execution_count": null,
      "metadata": {
        "id": "67qJIerNWPTV"
      },
      "outputs": [],
      "source": [
        "# Convert probabilities to class predictions\n",
        "y_pred_classes = np.argmax(y_pred, axis=1)\n",
        "unique_classes, class_counts = np.unique(y_pred_classes, return_counts=True)\n",
        "\n",
        "# Print the unique class indices and their counts\n",
        "for cls, count in zip(unique_classes, class_counts):\n",
        "    print(f\"Class {cls}: Count {count}\")"
      ]
    },
    {
      "cell_type": "code",
      "execution_count": null,
      "metadata": {
        "id": "PAMQEd5tVG75"
      },
      "outputs": [],
      "source": [
        "# Calculate evaluation metrics\n",
        "accuracy = accuracy_score(y_true, y_pred_classes)\n",
        "precision = precision_score(y_true, y_pred_classes, average='weighted')\n",
        "recall = recall_score(y_true, y_pred_classes, average='weighted')\n",
        "f1 = f1_score(y_true, y_pred_classes, average='weighted')\n",
        "conf_matrix = confusion_matrix(y_true, y_pred_classes)\n",
        "# it takes the weighted average,\n",
        "# where each class's contribution is proportional to the number of samples in that class."
      ]
    },
    {
      "cell_type": "code",
      "execution_count": null,
      "metadata": {
        "id": "priJ85ZGYZRg"
      },
      "outputs": [],
      "source": [
        "car_model.history.keys()"
      ]
    },
    {
      "cell_type": "code",
      "execution_count": null,
      "metadata": {
        "id": "S_NGGwriWaXv"
      },
      "outputs": [],
      "source": [
        "# Print the evaluation metrics\n",
        "print(\"Accuracy:\", accuracy)\n",
        "print(\"Precision:\", precision)\n",
        "print(\"Recall:\", recall)\n",
        "print(\"F1-Score:\", f1)\n",
        "# Plot the confusion matrix (Optional)\n",
        "import seaborn as sns\n",
        "import matplotlib.pyplot as plt"
      ]
    },
    {
      "cell_type": "code",
      "execution_count": null,
      "metadata": {
        "id": "94ecvW5oYp_F"
      },
      "outputs": [],
      "source": [
        "acc = car_model.history['accuracy']\n",
        "val_acc = car_model.history['val_accuracy']\n",
        "\n",
        "loss = car_model.history['loss']\n",
        "val_loss = car_model.history['val_loss']"
      ]
    },
    {
      "cell_type": "code",
      "execution_count": null,
      "metadata": {
        "id": "eQCJk4ZxW25t"
      },
      "outputs": [],
      "source": [
        "plt.figure(figsize=(8, 6))\n",
        "sns.heatmap(conf_matrix, annot=True, fmt='d', cmap='Blues')\n",
        "plt.xlabel('Predicted Label')\n",
        "plt.ylabel('True Label')\n",
        "plt.title('Confusion Matrix')\n",
        "plt.show()"
      ]
    },
    {
      "cell_type": "code",
      "execution_count": null,
      "metadata": {
        "id": "YIJOuBxbckq5"
      },
      "outputs": [],
      "source": [
        "import matplotlib.pyplot as plt\n",
        "EPOCHS = 50\n",
        "\n",
        "plt.figure(figsize=(8, 8))\n",
        "plt.subplot(1, 2, 1)\n",
        "plt.plot(range(EPOCHS), acc, label='Training Accuracy')\n",
        "plt.plot(range(EPOCHS), val_acc, label='Validation Accuracy')\n",
        "plt.legend(loc='lower right')\n",
        "plt.title('Training and Validation Accuracy')\n",
        "\n",
        "plt.subplot(1, 2, 2)\n",
        "plt.plot(range(EPOCHS), loss, label='Training Loss')\n",
        "plt.plot(range(EPOCHS), val_loss, label='Validation Loss')\n",
        "plt.legend(loc='upper right')\n",
        "plt.title('Training and Validation Loss')\n",
        "plt.show()"
      ]
    },
    {
      "cell_type": "code",
      "execution_count": null,
      "metadata": {
        "id": "z35FUJEmCVF2"
      },
      "outputs": [],
      "source": [
        "# Evaluate the model on the test set\n",
        "test_loss, test_accuracy = model.evaluate(test_generator)\n",
        "print(\"Test Loss:\", test_loss)\n",
        "print(\"Test Accuracy:\", test_accuracy)"
      ]
    },
    {
      "cell_type": "code",
      "source": [
        "from sklearn.metrics import classification_report\n",
        "y_true=test_generator.classes\n",
        "predictions=model.predict(test_generator,  steps =813)\n",
        "y_pred = np.argmax(predictions, axis=-1)\n",
        "print(classification_report(y_true,y_pred))"
      ],
      "metadata": {
        "id": "lNr6UFshDcSg"
      },
      "execution_count": null,
      "outputs": []
    },
    {
      "cell_type": "code",
      "source": [
        "from keras.models import load_model\n",
        "from keras.preprocessing import image\n",
        "\n",
        "# Load the saved model\n",
        "saved_model_path = '/content/drive/MyDrive/car_image_dataset_CNN_model/car_model_new.h5'\n",
        "loaded_model = load_model(saved_model_path)"
      ],
      "metadata": {
        "id": "Liy08L2BFK5v"
      },
      "execution_count": null,
      "outputs": []
    },
    {
      "cell_type": "code",
      "source": [
        "from google.colab import drive\n",
        "drive.mount('/content/drive')"
      ],
      "metadata": {
        "colab": {
          "base_uri": "https://localhost:8080/"
        },
        "id": "7TxlvheWQKo5",
        "outputId": "56b1bd91-f404-4d12-983f-25ffb5d92d82"
      },
      "execution_count": null,
      "outputs": [
        {
          "output_type": "stream",
          "name": "stdout",
          "text": [
            "Mounted at /content/drive\n"
          ]
        }
      ]
    },
    {
      "cell_type": "code",
      "source": [
        "import numpy as np\n",
        "from tensorflow.keras.preprocessing.image import load_img, img_to_array\n",
        "from tensorflow.keras.applications.mobilenet_v2 import preprocess_input\n",
        "from tensorflow.keras.models import load_model\n",
        "img_height = 224\n",
        "img_width = 224\n",
        "# Load and preprocess the new image\n",
        "image_path = '/content/4.jpg'\n",
        "img = load_img(image_path, target_size=(img_height, img_width))  # Assuming you have set img_height and img_width appropriately\n",
        "img_array = img_to_array(img)\n",
        "img_array = np.expand_dims(img_array, axis=0)\n",
        "preprocessed_image = preprocess_input(img_array)\n",
        "# Make predictions\n",
        "\n",
        "# Make predictions\n",
        "predictions = loaded_model.predict(preprocessed_image)\n",
        "print(predictions)\n",
        "\n",
        "print(\"Prediction percentages:\", prediction_percentages)\n",
        "# Convert predictions to class labels (assuming one-hot encoded predictions)\n",
        "predicted_class_index = np.argmax(predictions[0])\n",
        "print(predicted_class_index)"
      ],
      "metadata": {
        "colab": {
          "base_uri": "https://localhost:8080/"
        },
        "id": "FGPv3mMiFOut",
        "outputId": "07bbcda7-0c06-4bce-dfef-b452b6bb6a2e"
      },
      "execution_count": null,
      "outputs": [
        {
          "output_type": "stream",
          "name": "stdout",
          "text": [
            "1/1 [==============================] - 0s 83ms/step\n",
            "[[5.5264470e-15 1.6747593e-25 2.9329042e-29 8.7100124e-25 1.0000000e+00\n",
            "  2.7515616e-08 3.0986994e-13]]\n",
            "Prediction percentages: [11.471148 11.471148 11.471148 11.471148 31.168053 11.476212 11.471148]\n",
            "4\n"
          ]
        }
      ]
    },
    {
      "cell_type": "code",
      "source": [
        "# Class mapping\n",
        "class_mapping = {\n",
        "    0: 'class_A',\n",
        "    1: 'class_B',\n",
        "    2: 'class_C',\n",
        "    3: 'class_D',\n",
        "    4: 'class_E',\n",
        "    # Add more class mappings as needed\n",
        "}\n",
        "\n",
        "# Get predicted class name using class_mapping\n",
        "predicted_class_name = class_mapping[predicted_class_index]\n",
        "print(\"Predicted Class:\", predicted_class_name)"
      ],
      "metadata": {
        "colab": {
          "base_uri": "https://localhost:8080/"
        },
        "id": "906eakckGCvi",
        "outputId": "6035efac-6967-4b19-a091-952dab391414"
      },
      "execution_count": null,
      "outputs": [
        {
          "output_type": "stream",
          "name": "stdout",
          "text": [
            "Predicted Class: class_E\n"
          ]
        }
      ]
    },
    {
      "cell_type": "code",
      "source": [
        "import matplotlib.pyplot as plt\n",
        "# Get predicted class name using class_mapping\n",
        "predicted_class_name = class_mapping.get(predicted_class_index, 'Unknown')\n",
        "\n",
        "# Display the image\n",
        "plt.imshow(img)\n",
        "plt.title('Predicted Class: ' + predicted_class_name)\n",
        "plt.axis('off')  # Remove axis ticks and labels\n",
        "plt.show()"
      ],
      "metadata": {
        "colab": {
          "base_uri": "https://localhost:8080/",
          "height": 428
        },
        "id": "KJrc7PAUINKx",
        "outputId": "11f38df3-7ee6-47cb-af34-cc0e2341faf9"
      },
      "execution_count": null,
      "outputs": [
        {
          "output_type": "display_data",
          "data": {
            "text/plain": [
              "<Figure size 640x480 with 1 Axes>"
            ],
            "image/png": "[encoded data removed]"
          },
          "metadata": {}
        }
      ]
    }
  ],
  "metadata": {
    "accelerator": "GPU",
    "colab": {
      "provenance": []
    },
    "kernelspec": {
      "display_name": "Python 3",
      "name": "python3"
    },
    "language_info": {
      "name": "python"
    }
  },
  "nbformat": 4,
  "nbformat_minor": 0
}